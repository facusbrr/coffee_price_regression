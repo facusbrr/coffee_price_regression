{
 "cells": [
  {
   "cell_type": "markdown",
   "id": "8aac57c4",
   "metadata": {},
   "source": [
    "# Coffee Shop Sales Regression\n",
    "\n",
    "1. Carga y previsualización del dataset (`.xlsx`).\n",
    "2. Limpieza y extracción de features (fecha/hora → variables numéricas).\n",
    "3. Cálculo de ventas por transacción y agrupación horaria por tienda.\n",
    "4. Creación y entrenamiento de un modelo LinearRegression.\n",
    "5. Predicción y comparación con ventas reales.\n",
    "6. Gráficos en Matplotlib que comparan real vs. predicho.\n",
    "7. Guardado de resultados finales.\n"
   ]
  },
  {
   "cell_type": "markdown",
   "id": "7216f141",
   "metadata": {},
   "source": [
    "---"
   ]
  },
  {
   "cell_type": "markdown",
   "id": "efce7988",
   "metadata": {},
   "source": [
    "Cargamos y previsualizamos el dataset\n",
    "\n",
    "- Cree una variable por si necesito cambiar el dataset o si cambio de nombre al dataset.\n",
    "- Con read leemos el dataset que tiene formato excel\n",
    "- Se muestra tambien las primeras filas, dimensiones y nombres de las columnas"
   ]
  },
  {
   "cell_type": "code",
   "execution_count": null,
   "id": "74df0b3e",
   "metadata": {},
   "outputs": [
    {
     "name": "stdout",
     "output_type": "stream",
     "text": [
      "   transaction_id transaction_date transaction_time  transaction_qty  \\\n",
      "0               1       2023-01-01         07:06:11                2   \n",
      "1               2       2023-01-01         07:08:56                2   \n",
      "2               3       2023-01-01         07:14:04                2   \n",
      "3               4       2023-01-01         07:20:24                1   \n",
      "4               5       2023-01-01         07:22:41                2   \n",
      "\n",
      "   store_id   store_location  product_id  unit_price    product_category  \\\n",
      "0         5  Lower Manhattan          32         3.0              Coffee   \n",
      "1         5  Lower Manhattan          57         3.1                 Tea   \n",
      "2         5  Lower Manhattan          59         4.5  Drinking Chocolate   \n",
      "3         5  Lower Manhattan          22         2.0              Coffee   \n",
      "4         5  Lower Manhattan          57         3.1                 Tea   \n",
      "\n",
      "            product_type               product_detail  \n",
      "0  Gourmet brewed coffee                  Ethiopia Rg  \n",
      "1        Brewed Chai tea     Spicy Eye Opener Chai Lg  \n",
      "2          Hot chocolate            Dark chocolate Lg  \n",
      "3            Drip coffee  Our Old Time Diner Blend Sm  \n",
      "4        Brewed Chai tea     Spicy Eye Opener Chai Lg  \n",
      "\n",
      "Shape: (149116, 11)\n",
      "Columns: ['transaction_id', 'transaction_date', 'transaction_time', 'transaction_qty', 'store_id', 'store_location', 'product_id', 'unit_price', 'product_category', 'product_type', 'product_detail']\n"
     ]
    }
   ],
   "source": [
    "import pandas as pd\n",
    "\n",
    "file_path = 'Coffee-Shop-Sales.xlsx'\n",
    "\n",
    "df = pd.read_excel(file_path)\n",
    "\n",
    "display(df.head())\n",
    "print(\"\\nShape:\", df.shape)\n",
    "print(\"Columns:\", df.columns.tolist())"
   ]
  }
 ],
 "metadata": {
  "kernelspec": {
   "display_name": "venv",
   "language": "python",
   "name": "python3"
  },
  "language_info": {
   "codemirror_mode": {
    "name": "ipython",
    "version": 3
   },
   "file_extension": ".py",
   "mimetype": "text/x-python",
   "name": "python",
   "nbconvert_exporter": "python",
   "pygments_lexer": "ipython3",
   "version": "3.13.3"
  }
 },
 "nbformat": 4,
 "nbformat_minor": 5
}
